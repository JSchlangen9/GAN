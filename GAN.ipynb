{
 "cells": [
  {
   "cell_type": "code",
   "execution_count": 1,
   "metadata": {},
   "outputs": [],
   "source": [
    "#Importing Libraries & Packages\n",
    "import pandas as pd\n",
    "import numpy as np\n",
    "import tensorflow as tf\n",
    "from tensorflow.keras import layers, Model\n",
    "import os\n",
    "import zipfile"
   ]
  },
  {
   "cell_type": "code",
   "execution_count": 2,
   "metadata": {},
   "outputs": [
    {
     "name": "stdout",
     "output_type": "stream",
     "text": [
      "Found 300 files.\n",
      "Found 7038 files.\n"
     ]
    }
   ],
   "source": [
    "#Loading in Processed Images\n",
    "def load_images(dir):\n",
    "    dataset = tf.keras.preprocessing.image_dataset_from_directory(\n",
    "        dir,\n",
    "        image_size=(256, 256),\n",
    "        batch_size=1,\n",
    "        label_mode=None\n",
    "    )\n",
    "    return dataset.map(lambda x: (x - 128) / 128).repeat()\n",
    "\n",
    "monet_dataset = load_images('/Users/jschlangen/Desktop/gan-getting-started/monet_jpg')\n",
    "photo_dataset = load_images('/Users/jschlangen/Desktop/gan-getting-started/photo_jpg')"
   ]
  },
  {
   "cell_type": "code",
   "execution_count": null,
   "metadata": {},
   "outputs": [],
   "source": []
  }
 ],
 "metadata": {
  "kernelspec": {
   "display_name": "Python 3",
   "language": "python",
   "name": "python3"
  },
  "language_info": {
   "codemirror_mode": {
    "name": "ipython",
    "version": 3
   },
   "file_extension": ".py",
   "mimetype": "text/x-python",
   "name": "python",
   "nbconvert_exporter": "python",
   "pygments_lexer": "ipython3",
   "version": "3.11.5"
  },
  "orig_nbformat": 4
 },
 "nbformat": 4,
 "nbformat_minor": 2
}
